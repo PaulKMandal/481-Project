{
 "cells": [
  {
   "cell_type": "code",
   "execution_count": 1,
   "metadata": {},
   "outputs": [],
   "source": [
    "import os\n",
    "from shutil import copy\n",
    "from PIL import Image\n",
    "import glob\n",
    "import numpy as np\n",
    "\n",
    "path = \"extracted_images\"\n",
    "\n",
    "\n",
    "alpha_train = glob.glob(path + \"/alpha_train/*.jpg\")\n",
    "alpha_test = glob.glob(path + \"/alpha_test/*.jpg\")\n",
    "\n",
    "beta_train = glob.glob(path + \"/beta_train/*.jpg\")\n",
    "beta_test = glob.glob(path + \"/beta_test/*.jpg\")\n",
    "\n",
    "cos_train = glob.glob(path + \"/cos_train/*.jpg\")\n",
    "cos_test = glob.glob(path + \"/cos_test/*.jpg\")\n",
    "\n",
    "log_train = glob.glob(path + \"/log_train/*.jpg\")\n",
    "log_test = glob.glob(path + \"/log_test/*.jpg\")\n",
    "\n",
    "pi_train = glob.glob(path + \"/pi_train/*.jpg\")\n",
    "pi_test = glob.glob(path + \"/pi_test/*.jpg\")\n",
    "\n",
    "sin_train = glob.glob(path + \"/sin_train/*.jpg\")\n",
    "sin_test = glob.glob(path + \"/sin_test/*.jpg\")\n",
    "\n",
    "sqrt_train = glob.glob(path + \"/sqrt_train/*.jpg\")\n",
    "sqrt_test = glob.glob(path + \"/sqrt_test/*.jpg\")\n",
    "\n",
    "sum_train = glob.glob(path + \"/sum_train/*.jpg\")\n",
    "sum_test = glob.glob(path + \"/sum_test/*.jpg\")\n",
    "\n",
    "tan_train = glob.glob(path + \"/tan_train/*.jpg\")\n",
    "tan_test = glob.glob(path + \"/tan_test/*.jpg\")\n",
    "\n",
    "equal_train = glob.glob(path + \"/=_train/*.jpg\")\n",
    "equal_test = glob.glob(path + \"/=_test/*.jpg\")\n",
    "\n",
    "minus_train = glob.glob(path + \"/-_train/*.jpg\")\n",
    "minus_test = glob.glob(path + \"/-_test/*.jpg\")\n",
    "\n",
    "theta_train = glob.glob(path + \"/theta_train/*.jpg\")\n",
    "theta_test = glob.glob(path + \"/theta_test/*.jpg\")\n",
    "\n",
    "times_train = glob.glob(path + \"/times_train/*.jpg\")\n",
    "times_test = glob.glob(path + \"/times_test/*.jpg\")\n",
    "\n",
    "plus_train = glob.glob(path + \"/+_train/*.jpg\")\n",
    "plus_test = glob.glob(path + \"/+_test/*.jpg\")\n",
    "\n",
    "train_set = np.array([np.array(Image.open(fname)) for fname in alpha_train])\n",
    "test_set = np.array([np.array(Image.open(fname)) for fname in alpha_test])\n",
    "\n",
    "train_set = np.append(train_set, np.array([np.array(Image.open(fname)) for fname in beta_train]))\n",
    "train_set = np.append(train_set, np.array([np.array(Image.open(fname)) for fname in cos_train]))\n",
    "train_set = np.append(train_set, np.array([np.array(Image.open(fname)) for fname in log_train]))\n",
    "train_set = np.append(train_set, np.array([np.array(Image.open(fname)) for fname in pi_train]))\n",
    "train_set = np.append(train_set, np.array([np.array(Image.open(fname)) for fname in sin_train]))\n",
    "train_set = np.append(train_set, np.array([np.array(Image.open(fname)) for fname in sqrt_train]))\n",
    "train_set = np.append(train_set, np.array([np.array(Image.open(fname)) for fname in sum_train]))\n",
    "train_set = np.append(train_set, np.array([np.array(Image.open(fname)) for fname in tan_train]))\n",
    "train_set = np.append(train_set, np.array([np.array(Image.open(fname)) for fname in equal_train]))\n",
    "train_set = np.append(train_set, np.array([np.array(Image.open(fname)) for fname in minus_train]))\n",
    "train_set = np.append(train_set, np.array([np.array(Image.open(fname)) for fname in theta_train]))\n",
    "train_set = np.append(train_set, np.array([np.array(Image.open(fname)) for fname in times_train]))\n",
    "train_set = np.append(train_set, np.array([np.array(Image.open(fname)) for fname in plus_train]))\n",
    "\n",
    "test_set = np.append(test_set, np.array([np.array(Image.open(fname)) for fname in beta_test]))\n",
    "test_set = np.append(test_set, np.array([np.array(Image.open(fname)) for fname in cos_test]))\n",
    "test_set = np.append(test_set, np.array([np.array(Image.open(fname)) for fname in log_test]))\n",
    "test_set = np.append(test_set, np.array([np.array(Image.open(fname)) for fname in pi_test]))\n",
    "test_set = np.append(test_set, np.array([np.array(Image.open(fname)) for fname in sin_test]))\n",
    "test_set = np.append(test_set, np.array([np.array(Image.open(fname)) for fname in sqrt_test]))\n",
    "test_set = np.append(test_set, np.array([np.array(Image.open(fname)) for fname in sum_test]))\n",
    "test_set = np.append(test_set, np.array([np.array(Image.open(fname)) for fname in tan_test]))\n",
    "test_set = np.append(test_set, np.array([np.array(Image.open(fname)) for fname in equal_test]))\n",
    "test_set = np.append(test_set, np.array([np.array(Image.open(fname)) for fname in minus_test]))\n",
    "test_set = np.append(test_set, np.array([np.array(Image.open(fname)) for fname in theta_test]))\n",
    "test_set = np.append(test_set, np.array([np.array(Image.open(fname)) for fname in times_test]))\n",
    "test_set = np.append(test_set, np.array([np.array(Image.open(fname)) for fname in plus_test]))\n",
    "\n",
    "\n",
    "\n",
    "\n",
    "#def array_append(path):"
   ]
  },
  {
   "cell_type": "code",
   "execution_count": 47,
   "metadata": {},
   "outputs": [],
   "source": [
    "label_train_set = []\n",
    "label_test_set = []\n",
    "\n",
    "for i in range(14):\n",
    "        label_train_set = np.append(label_train_set, np.full(1800, i))\n",
    "\n",
    "for i in range(14):\n",
    "        label_test_set = np.append(label_test_set, np.full(200, i))\n",
    "        "
   ]
  },
  {
   "cell_type": "code",
   "execution_count": 48,
   "metadata": {},
   "outputs": [],
   "source": [
    "import random\n",
    "\n",
    "shuffle_train = train_set/255\n",
    "shuffle_test = test_set/255"
   ]
  },
  {
   "cell_type": "code",
   "execution_count": 49,
   "metadata": {},
   "outputs": [],
   "source": [
    "image_train = shuffle_train.reshape((1800*14, 45 * 45))\n",
    "image_test = shuffle_test.reshape((200*14, 45 * 45))"
   ]
  },
  {
   "cell_type": "code",
   "execution_count": 50,
   "metadata": {},
   "outputs": [],
   "source": [
    "from keras import models\n",
    "from keras import layers\n",
    "from keras.utils import to_categorical\n",
    "\n",
    "import tensorflow as tf\n",
    "config = tf.ConfigProto()\n",
    "config.gpu_options.allow_growth = True\n",
    "session = tf.Session(config=config)"
   ]
  },
  {
   "cell_type": "code",
   "execution_count": 51,
   "metadata": {},
   "outputs": [],
   "source": [
    "train_labels = to_categorical(label_train_set)\n",
    "test_labels = to_categorical(label_test_set)"
   ]
  },
  {
   "cell_type": "code",
   "execution_count": 52,
   "metadata": {},
   "outputs": [],
   "source": [
    "network = models.Sequential()\n",
    "network.add(layers.Dense(14, activation = 'softmax', input_shape = (45 * 45,)))\n",
    "network.compile(optimizer = 'rmsprop', loss = 'categorical_crossentropy', metrics = ['accuracy'])"
   ]
  },
  {
   "cell_type": "code",
   "execution_count": 53,
   "metadata": {},
   "outputs": [
    {
     "name": "stdout",
     "output_type": "stream",
     "text": [
      "Epoch 1/4\n",
      "25200/25200 [==============================] - 1s 38us/step - loss: 2.7347 - acc: 0.1783\n",
      "Epoch 2/4\n",
      "25200/25200 [==============================] - 1s 32us/step - loss: 1.9795 - acc: 0.4044\n",
      "Epoch 3/4\n",
      "25200/25200 [==============================] - 1s 32us/step - loss: 1.5577 - acc: 0.5375\n",
      "Epoch 4/4\n",
      "25200/25200 [==============================] - 1s 32us/step - loss: 1.2800 - acc: 0.6223\n"
     ]
    },
    {
     "data": {
      "text/plain": [
       "<keras.callbacks.History at 0x254f89082b0>"
      ]
     },
     "execution_count": 53,
     "metadata": {},
     "output_type": "execute_result"
    }
   ],
   "source": [
    "network.fit(image_train, train_labels, epochs=4, batch_size = 128)"
   ]
  },
  {
   "cell_type": "code",
   "execution_count": 55,
   "metadata": {},
   "outputs": [
    {
     "name": "stdout",
     "output_type": "stream",
     "text": [
      "2800/2800 [==============================] - 0s 47us/step\n",
      "test_acc: 0.6307142857142857\n"
     ]
    }
   ],
   "source": [
    "test_loss, test_acc = network.evaluate(image_test, test_labels)\n",
    "print('test_acc:', test_acc)"
   ]
  },
  {
   "cell_type": "code",
   "execution_count": null,
   "metadata": {},
   "outputs": [],
   "source": []
  }
 ],
 "metadata": {
  "kernelspec": {
   "display_name": "Python 3",
   "language": "python",
   "name": "python3"
  },
  "language_info": {
   "codemirror_mode": {
    "name": "ipython",
    "version": 3
   },
   "file_extension": ".py",
   "mimetype": "text/x-python",
   "name": "python",
   "nbconvert_exporter": "python",
   "pygments_lexer": "ipython3",
   "version": "3.6.2"
  }
 },
 "nbformat": 4,
 "nbformat_minor": 2
}
