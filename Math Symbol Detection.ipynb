{
 "cells": [
  {
   "cell_type": "code",
   "execution_count": 1,
   "metadata": {},
   "outputs": [],
   "source": [
    "import os\n",
    "from shutil import copy\n",
    "from PIL import Image\n",
    "import glob\n",
    "import numpy as np\n",
    "\n",
    "path = \"extracted_images\"\n",
    "\n",
    "\n",
    "alpha_train = glob.glob(path + \"/alpha_train/*.jpg\")\n",
    "alpha_test = glob.glob(path + \"/alpha_test/*.jpg\")\n",
    "\n",
    "beta_train = glob.glob(path + \"/beta_train/*.jpg\")\n",
    "beta_test = glob.glob(path + \"/beta_test/*.jpg\")\n",
    "\n",
    "cos_train = glob.glob(path + \"/cos_train/*.jpg\")\n",
    "cos_test = glob.glob(path + \"/cos_test/*.jpg\")\n",
    "\n",
    "log_train = glob.glob(path + \"/log_train/*.jpg\")\n",
    "log_test = glob.glob(path + \"/log_test/*.jpg\")\n",
    "\n",
    "pi_train = glob.glob(path + \"/pi_train/*.jpg\")\n",
    "pi_test = glob.glob(path + \"/pi_test/*.jpg\")\n",
    "\n",
    "sin_train = glob.glob(path + \"/sin_train/*.jpg\")\n",
    "sin_test = glob.glob(path + \"/sin_test/*.jpg\")\n",
    "\n",
    "sqrt_train = glob.glob(path + \"/sqrt_train/*.jpg\")\n",
    "sqrt_test = glob.glob(path + \"/sqrt_test/*.jpg\")\n",
    "\n",
    "sum_train = glob.glob(path + \"/sum_train/*.jpg\")\n",
    "sum_test = glob.glob(path + \"/sum_test/*.jpg\")\n",
    "\n",
    "tan_train = glob.glob(path + \"/tan_train/*.jpg\")\n",
    "tan_test = glob.glob(path + \"/tan_test/*.jpg\")\n",
    "\n",
    "equal_train = glob.glob(path + \"/=_train/*.jpg\")\n",
    "equal_test = glob.glob(path + \"/=_test/*.jpg\")\n",
    "\n",
    "minus_train = glob.glob(path + \"/-_train/*.jpg\")\n",
    "minus_test = glob.glob(path + \"/-_test/*.jpg\")\n",
    "\n",
    "theta_train = glob.glob(path + \"/theta_train/*.jpg\")\n",
    "theta_test = glob.glob(path + \"/theta_test/*.jpg\")\n",
    "\n",
    "times_train = glob.glob(path + \"/times_train/*.jpg\")\n",
    "times_test = glob.glob(path + \"/times_test/*.jpg\")\n",
    "\n",
    "plus_train = glob.glob(path + \"/+_train/*.jpg\")\n",
    "plus_test = glob.glob(path + \"/+_test/*.jpg\")\n",
    "\n",
    "train_set = np.array([np.array(Image.open(fname)) for fname in alpha_train])\n",
    "test_set = np.array([np.array(Image.open(fname)) for fname in alpha_test])\n",
    "\n",
    "train_set = np.append(train_set, np.array([np.array(Image.open(fname)) for fname in beta_train]))\n",
    "train_set = np.append(train_set, np.array([np.array(Image.open(fname)) for fname in cos_train]))\n",
    "train_set = np.append(train_set, np.array([np.array(Image.open(fname)) for fname in log_train]))\n",
    "train_set = np.append(train_set, np.array([np.array(Image.open(fname)) for fname in pi_train]))\n",
    "train_set = np.append(train_set, np.array([np.array(Image.open(fname)) for fname in sin_train]))\n",
    "train_set = np.append(train_set, np.array([np.array(Image.open(fname)) for fname in sqrt_train]))\n",
    "train_set = np.append(train_set, np.array([np.array(Image.open(fname)) for fname in sum_train]))\n",
    "train_set = np.append(train_set, np.array([np.array(Image.open(fname)) for fname in tan_train]))\n",
    "train_set = np.append(train_set, np.array([np.array(Image.open(fname)) for fname in equal_train]))\n",
    "train_set = np.append(train_set, np.array([np.array(Image.open(fname)) for fname in minus_train]))\n",
    "train_set = np.append(train_set, np.array([np.array(Image.open(fname)) for fname in theta_train]))\n",
    "train_set = np.append(train_set, np.array([np.array(Image.open(fname)) for fname in times_train]))\n",
    "train_set = np.append(train_set, np.array([np.array(Image.open(fname)) for fname in plus_train]))\n",
    "\n",
    "test_set = np.append(test_set, np.array([np.array(Image.open(fname)) for fname in beta_test]))\n",
    "test_set = np.append(test_set, np.array([np.array(Image.open(fname)) for fname in cos_test]))\n",
    "test_set = np.append(test_set, np.array([np.array(Image.open(fname)) for fname in log_test]))\n",
    "test_set = np.append(test_set, np.array([np.array(Image.open(fname)) for fname in pi_test]))\n",
    "test_set = np.append(test_set, np.array([np.array(Image.open(fname)) for fname in sin_test]))\n",
    "test_set = np.append(test_set, np.array([np.array(Image.open(fname)) for fname in sqrt_test]))\n",
    "test_set = np.append(test_set, np.array([np.array(Image.open(fname)) for fname in sum_test]))\n",
    "test_set = np.append(test_set, np.array([np.array(Image.open(fname)) for fname in tan_test]))\n",
    "test_set = np.append(test_set, np.array([np.array(Image.open(fname)) for fname in equal_test]))\n",
    "test_set = np.append(test_set, np.array([np.array(Image.open(fname)) for fname in minus_test]))\n",
    "test_set = np.append(test_set, np.array([np.array(Image.open(fname)) for fname in theta_test]))\n",
    "test_set = np.append(test_set, np.array([np.array(Image.open(fname)) for fname in times_test]))\n",
    "test_set = np.append(test_set, np.array([np.array(Image.open(fname)) for fname in plus_test]))\n",
    "\n",
    "\n",
    "\n",
    "\n",
    "#def array_append(path):"
   ]
  },
  {
   "cell_type": "code",
   "execution_count": 2,
   "metadata": {},
   "outputs": [],
   "source": [
    "label_train_set = []\n",
    "label_test_set = []\n",
    "\n",
    "for i in range(14):\n",
    "        label_train_set = np.append(label_train_set, np.full(1800, i))\n",
    "\n",
    "for i in range(14):\n",
    "        label_test_set = np.append(label_test_set, np.full(200, i))\n",
    "        "
   ]
  },
  {
   "cell_type": "code",
   "execution_count": 3,
   "metadata": {},
   "outputs": [],
   "source": [
    "import random\n",
    "\n",
    "shuffle_train = train_set/255\n",
    "shuffle_test = test_set/255"
   ]
  },
  {
   "cell_type": "code",
   "execution_count": 4,
   "metadata": {},
   "outputs": [],
   "source": [
    "image_train = shuffle_train.reshape((1800*14, 45 * 45))\n",
    "image_test = shuffle_test.reshape((200*14, 45 * 45))"
   ]
  },
  {
   "cell_type": "code",
   "execution_count": 5,
   "metadata": {},
   "outputs": [
    {
     "name": "stderr",
     "output_type": "stream",
     "text": [
      "Using TensorFlow backend.\n"
     ]
    }
   ],
   "source": [
    "from keras import models\n",
    "from keras import layers\n",
    "from keras.utils import to_categorical\n",
    "\n",
    "import tensorflow as tf\n",
    "config = tf.ConfigProto()\n",
    "config.gpu_options.allow_growth = True\n",
    "session = tf.Session(config=config)"
   ]
  },
  {
   "cell_type": "code",
   "execution_count": 6,
   "metadata": {},
   "outputs": [],
   "source": [
    "train_labels = to_categorical(label_train_set)\n",
    "test_labels = to_categorical(label_test_set)"
   ]
  },
  {
   "cell_type": "code",
   "execution_count": 15,
   "metadata": {},
   "outputs": [],
   "source": [
    "#This is a simple logistic regression classifier\n",
    "baseline = models.Sequential()\n",
    "baseline.add(layers.Dense(14, activation = 'softmax', input_shape = (45 * 45,)))\n",
    "baseline.compile(optimizer = 'rmsprop', loss = 'categorical_crossentropy', metrics = ['accuracy'])"
   ]
  },
  {
   "cell_type": "code",
   "execution_count": 16,
   "metadata": {},
   "outputs": [
    {
     "name": "stdout",
     "output_type": "stream",
     "text": [
      "Train on 22400 samples, validate on 2800 samples\n",
      "Epoch 1/50\n",
      "22400/22400 [==============================] - 1s 44us/step - loss: 2.6662 - acc: 0.1918 - val_loss: 11.7697 - val_acc: 0.0000e+00\n",
      "Epoch 2/50\n",
      "22400/22400 [==============================] - 1s 35us/step - loss: 1.8948 - acc: 0.4356 - val_loss: 11.7498 - val_acc: 0.0000e+00\n",
      "Epoch 3/50\n",
      "22400/22400 [==============================] - 1s 36us/step - loss: 1.4730 - acc: 0.5649 - val_loss: 11.8608 - val_acc: 0.0000e+00\n",
      "Epoch 4/50\n",
      "22400/22400 [==============================] - 1s 36us/step - loss: 1.2009 - acc: 0.6482 - val_loss: 11.5734 - val_acc: 0.0000e+00\n",
      "Epoch 5/50\n",
      "22400/22400 [==============================] - 1s 34us/step - loss: 1.0248 - acc: 0.7040 - val_loss: 10.8913 - val_acc: 0.1007\n",
      "Epoch 6/50\n",
      "22400/22400 [==============================] - 1s 39us/step - loss: 0.8765 - acc: 0.7487 - val_loss: 11.1575 - val_acc: 0.0561\n",
      "Epoch 7/50\n",
      "22400/22400 [==============================] - 1s 36us/step - loss: 0.7844 - acc: 0.7731 - val_loss: 11.3457 - val_acc: 0.0279\n",
      "Epoch 8/50\n",
      "22400/22400 [==============================] - 1s 34us/step - loss: 0.6974 - acc: 0.7990 - val_loss: 10.7246 - val_acc: 0.2664\n",
      "Epoch 9/50\n",
      "22400/22400 [==============================] - 1s 34us/step - loss: 0.6381 - acc: 0.8174 - val_loss: 10.8928 - val_acc: 0.1779\n",
      "Epoch 10/50\n",
      "22400/22400 [==============================] - 1s 33us/step - loss: 0.5700 - acc: 0.8374 - val_loss: 11.1426 - val_acc: 0.0932\n",
      "Epoch 11/50\n",
      "22400/22400 [==============================] - 1s 34us/step - loss: 0.5283 - acc: 0.8528 - val_loss: 11.2271 - val_acc: 0.0686\n",
      "Epoch 12/50\n",
      "22400/22400 [==============================] - 1s 34us/step - loss: 0.4814 - acc: 0.8657 - val_loss: 10.8055 - val_acc: 0.1811\n",
      "Epoch 13/50\n",
      "22400/22400 [==============================] - 1s 34us/step - loss: 0.4492 - acc: 0.8737 - val_loss: 11.1256 - val_acc: 0.0718\n",
      "Epoch 14/50\n",
      "22400/22400 [==============================] - 1s 34us/step - loss: 0.4146 - acc: 0.8830 - val_loss: 10.7441 - val_acc: 0.2307\n",
      "Epoch 15/50\n",
      "22400/22400 [==============================] - 1s 36us/step - loss: 0.3908 - acc: 0.8910 - val_loss: 10.9811 - val_acc: 0.1407\n",
      "Epoch 16/50\n",
      "22400/22400 [==============================] - 1s 35us/step - loss: 0.3596 - acc: 0.9019 - val_loss: 10.8250 - val_acc: 0.1929\n",
      "Epoch 17/50\n",
      "22400/22400 [==============================] - 1s 35us/step - loss: 0.3407 - acc: 0.9076 - val_loss: 10.6421 - val_acc: 0.2825\n",
      "Epoch 18/50\n",
      "22400/22400 [==============================] - 1s 37us/step - loss: 0.3190 - acc: 0.9133 - val_loss: 11.0608 - val_acc: 0.1154\n",
      "Epoch 19/50\n",
      "22400/22400 [==============================] - 1s 37us/step - loss: 0.2953 - acc: 0.9206 - val_loss: 10.8502 - val_acc: 0.1779\n",
      "Epoch 20/50\n",
      "22400/22400 [==============================] - 1s 36us/step - loss: 0.2861 - acc: 0.9222 - val_loss: 11.0514 - val_acc: 0.1121\n",
      "Epoch 21/50\n",
      "22400/22400 [==============================] - 1s 35us/step - loss: 0.2660 - acc: 0.9290 - val_loss: 10.9104 - val_acc: 0.1743\n",
      "Epoch 22/50\n",
      "22400/22400 [==============================] - 1s 38us/step - loss: 0.2514 - acc: 0.9319 - val_loss: 10.6051 - val_acc: 0.2864\n",
      "Epoch 23/50\n",
      "22400/22400 [==============================] - 1s 37us/step - loss: 0.2380 - acc: 0.9382 - val_loss: 11.0260 - val_acc: 0.1193\n",
      "Epoch 24/50\n",
      "22400/22400 [==============================] - 1s 34us/step - loss: 0.2279 - acc: 0.9399 - val_loss: 10.6580 - val_acc: 0.2557\n",
      "Epoch 25/50\n",
      "22400/22400 [==============================] - 1s 33us/step - loss: 0.2135 - acc: 0.9462 - val_loss: 10.5673 - val_acc: 0.3039\n",
      "Epoch 26/50\n",
      "22400/22400 [==============================] - 1s 34us/step - loss: 0.2023 - acc: 0.9495 - val_loss: 10.4309 - val_acc: 0.3461\n",
      "Epoch 27/50\n",
      "22400/22400 [==============================] - 1s 34us/step - loss: 0.1982 - acc: 0.9487 - val_loss: 10.8614 - val_acc: 0.1796\n",
      "Epoch 28/50\n",
      "22400/22400 [==============================] - 1s 32us/step - loss: 0.1860 - acc: 0.9529 - val_loss: 11.0300 - val_acc: 0.0989\n",
      "Epoch 29/50\n",
      "22400/22400 [==============================] - 1s 36us/step - loss: 0.1765 - acc: 0.9561 - val_loss: 10.8517 - val_acc: 0.1754\n",
      "Epoch 30/50\n",
      "22400/22400 [==============================] - 1s 34us/step - loss: 0.1747 - acc: 0.9550 - val_loss: 10.5931 - val_acc: 0.2861\n",
      "Epoch 31/50\n",
      "22400/22400 [==============================] - 1s 34us/step - loss: 0.1644 - acc: 0.9577 - val_loss: 10.6750 - val_acc: 0.2611\n",
      "Epoch 32/50\n",
      "22400/22400 [==============================] - 1s 34us/step - loss: 0.1521 - acc: 0.9633 - val_loss: 10.7386 - val_acc: 0.2221\n",
      "Epoch 33/50\n",
      "22400/22400 [==============================] - 1s 34us/step - loss: 0.1466 - acc: 0.9640 - val_loss: 10.7483 - val_acc: 0.2364\n",
      "Epoch 34/50\n",
      "22400/22400 [==============================] - 1s 35us/step - loss: 0.1415 - acc: 0.9651 - val_loss: 10.5793 - val_acc: 0.2800\n",
      "Epoch 35/50\n",
      "22400/22400 [==============================] - 1s 36us/step - loss: 0.1385 - acc: 0.9663 - val_loss: 11.1562 - val_acc: 0.1021\n",
      "Epoch 36/50\n",
      "22400/22400 [==============================] - 1s 36us/step - loss: 0.1307 - acc: 0.9671 - val_loss: 10.4217 - val_acc: 0.3425\n",
      "Epoch 37/50\n",
      "22400/22400 [==============================] - 1s 33us/step - loss: 0.1248 - acc: 0.9699 - val_loss: 10.7925 - val_acc: 0.2054\n",
      "Epoch 38/50\n",
      "22400/22400 [==============================] - 1s 34us/step - loss: 0.1245 - acc: 0.9679 - val_loss: 10.8219 - val_acc: 0.2043\n",
      "Epoch 39/50\n",
      "22400/22400 [==============================] - 1s 34us/step - loss: 0.1148 - acc: 0.9735 - val_loss: 10.7766 - val_acc: 0.2282\n",
      "Epoch 40/50\n",
      "22400/22400 [==============================] - 1s 35us/step - loss: 0.1145 - acc: 0.9730 - val_loss: 10.7424 - val_acc: 0.2250\n",
      "Epoch 41/50\n",
      "22400/22400 [==============================] - 1s 33us/step - loss: 0.1108 - acc: 0.9738 - val_loss: 10.7951 - val_acc: 0.2196\n",
      "Epoch 42/50\n",
      "22400/22400 [==============================] - 1s 33us/step - loss: 0.1048 - acc: 0.9753 - val_loss: 10.5620 - val_acc: 0.2986\n",
      "Epoch 43/50\n",
      "22400/22400 [==============================] - 1s 36us/step - loss: 0.0998 - acc: 0.9773 - val_loss: 11.1887 - val_acc: 0.0879\n",
      "Epoch 44/50\n",
      "22400/22400 [==============================] - 1s 34us/step - loss: 0.1002 - acc: 0.9769 - val_loss: 10.8047 - val_acc: 0.2100\n",
      "Epoch 45/50\n",
      "22400/22400 [==============================] - 1s 36us/step - loss: 0.0939 - acc: 0.9775 - val_loss: 10.6406 - val_acc: 0.2654\n",
      "Epoch 46/50\n",
      "22400/22400 [==============================] - 1s 34us/step - loss: 0.0929 - acc: 0.9779 - val_loss: 10.7087 - val_acc: 0.2450\n",
      "Epoch 47/50\n",
      "22400/22400 [==============================] - 1s 34us/step - loss: 0.0876 - acc: 0.9795 - val_loss: 10.6552 - val_acc: 0.2614\n",
      "Epoch 48/50\n",
      "22400/22400 [==============================] - 1s 35us/step - loss: 0.0849 - acc: 0.9810 - val_loss: 10.5236 - val_acc: 0.3068\n",
      "Epoch 49/50\n",
      "22400/22400 [==============================] - 1s 36us/step - loss: 0.0857 - acc: 0.9813 - val_loss: 10.7463 - val_acc: 0.2157\n",
      "Epoch 50/50\n",
      "22400/22400 [==============================] - 1s 37us/step - loss: 0.0816 - acc: 0.9828 - val_loss: 10.7851 - val_acc: 0.2175\n"
     ]
    }
   ],
   "source": [
    "baseline_history = baseline.fit(image_train, train_labels, epochs=50, validation_split = (1 / 9), batch_size = 128)"
   ]
  },
  {
   "cell_type": "code",
   "execution_count": 17,
   "metadata": {},
   "outputs": [
    {
     "data": {
      "text/plain": [
       "<keras.callbacks.History at 0x2277ccc6f98>"
      ]
     },
     "execution_count": 17,
     "metadata": {},
     "output_type": "execute_result"
    }
   ],
   "source": [
    "#26 epochs seems to be the optimal number, as it has the highest validation accuracy. Let us now retrain the model.\n",
    "baseline.compile(optimizer = 'rmsprop', loss = 'categorical_crossentropy', metrics = ['accuracy'])\n",
    "baseline.fit(image_train, train_labels, epochs=26, batch_size = 128, verbose = 0)"
   ]
  },
  {
   "cell_type": "code",
   "execution_count": 18,
   "metadata": {},
   "outputs": [
    {
     "name": "stdout",
     "output_type": "stream",
     "text": [
      "2800/2800 [==============================] - 0s 44us/step\n",
      "test_acc: 0.87\n"
     ]
    }
   ],
   "source": [
    "test_loss, test_acc = baseline.evaluate(image_test, test_labels)\n",
    "print('test_acc:', test_acc)"
   ]
  },
  {
   "cell_type": "code",
   "execution_count": 45,
   "metadata": {},
   "outputs": [],
   "source": [
    "#This is a simple Feed Forward NN\n",
    "FF1 = models.Sequential()\n",
    "FF1.add(layers.Dense(25, activation = 'relu', input_shape = (45 * 45,)))\n",
    "FF1.add(layers.Dense(14, activation = 'softmax'))\n",
    "FF1.compile(optimizer = 'rmsprop', loss = 'categorical_crossentropy', metrics = ['accuracy'])"
   ]
  },
  {
   "cell_type": "code",
   "execution_count": 46,
   "metadata": {},
   "outputs": [
    {
     "name": "stdout",
     "output_type": "stream",
     "text": [
      "Train on 22400 samples, validate on 2800 samples\n",
      "Epoch 1/50\n",
      "22400/22400 [==============================] - 1s 57us/step - loss: 2.6466 - acc: 0.0788 - val_loss: 2.8308 - val_acc: 0.0000e+00\n",
      "Epoch 2/50\n",
      "22400/22400 [==============================] - 1s 39us/step - loss: 2.6105 - acc: 0.0796 - val_loss: 3.0078 - val_acc: 0.0000e+00\n",
      "Epoch 3/50\n",
      "22400/22400 [==============================] - 1s 37us/step - loss: 2.5979 - acc: 0.0773 - val_loss: 3.1721 - val_acc: 0.0000e+00\n",
      "Epoch 4/50\n",
      "22400/22400 [==============================] - 1s 38us/step - loss: 2.5886 - acc: 0.0773 - val_loss: 3.3240 - val_acc: 0.0000e+00\n",
      "Epoch 5/50\n",
      "22400/22400 [==============================] - 1s 39us/step - loss: 2.5816 - acc: 0.0766 - val_loss: 3.4634 - val_acc: 0.0000e+00\n",
      "Epoch 6/50\n",
      "22400/22400 [==============================] - 1s 38us/step - loss: 2.5761 - acc: 0.0777 - val_loss: 3.5941 - val_acc: 0.0000e+00\n",
      "Epoch 7/50\n",
      "22400/22400 [==============================] - 1s 37us/step - loss: 2.5717 - acc: 0.0783 - val_loss: 3.7193 - val_acc: 0.0000e+00\n",
      "Epoch 8/50\n",
      "22400/22400 [==============================] - 1s 38us/step - loss: 2.5681 - acc: 0.0791 - val_loss: 3.8406 - val_acc: 0.0000e+00\n",
      "Epoch 9/50\n",
      "22400/22400 [==============================] - 1s 39us/step - loss: 2.5652 - acc: 0.0753 - val_loss: 3.9585 - val_acc: 0.0000e+00\n",
      "Epoch 10/50\n",
      "22400/22400 [==============================] - 1s 38us/step - loss: 2.5628 - acc: 0.0773 - val_loss: 4.0738 - val_acc: 0.0000e+00\n",
      "Epoch 11/50\n",
      "22400/22400 [==============================] - 1s 39us/step - loss: 2.5608 - acc: 0.0770 - val_loss: 4.1887 - val_acc: 0.0000e+00\n",
      "Epoch 12/50\n",
      "22400/22400 [==============================] - 1s 39us/step - loss: 2.5591 - acc: 0.0790 - val_loss: 4.3032 - val_acc: 0.0000e+00\n",
      "Epoch 13/50\n",
      "22400/22400 [==============================] - 1s 39us/step - loss: 2.5577 - acc: 0.0758 - val_loss: 4.4156 - val_acc: 0.0000e+00\n",
      "Epoch 14/50\n",
      "22400/22400 [==============================] - 1s 38us/step - loss: 2.5565 - acc: 0.0779 - val_loss: 4.5278 - val_acc: 0.0000e+00\n",
      "Epoch 15/50\n",
      "22400/22400 [==============================] - 1s 38us/step - loss: 2.5555 - acc: 0.0750 - val_loss: 4.6384 - val_acc: 0.0000e+00\n",
      "Epoch 16/50\n",
      "22400/22400 [==============================] - 1s 38us/step - loss: 2.5547 - acc: 0.0766 - val_loss: 4.7503 - val_acc: 0.0000e+00\n",
      "Epoch 17/50\n",
      "22400/22400 [==============================] - 1s 38us/step - loss: 2.5540 - acc: 0.0784 - val_loss: 4.8629 - val_acc: 0.0000e+00\n",
      "Epoch 18/50\n",
      "22400/22400 [==============================] - 1s 42us/step - loss: 2.5534 - acc: 0.0766 - val_loss: 4.9731 - val_acc: 0.0000e+00\n",
      "Epoch 19/50\n",
      "22400/22400 [==============================] - 1s 38us/step - loss: 2.5529 - acc: 0.0777 - val_loss: 5.0844 - val_acc: 0.0000e+00\n",
      "Epoch 20/50\n",
      "22400/22400 [==============================] - 1s 38us/step - loss: 2.5525 - acc: 0.0769 - val_loss: 5.1947 - val_acc: 0.0000e+00\n",
      "Epoch 21/50\n",
      "22400/22400 [==============================] - 1s 41us/step - loss: 2.5522 - acc: 0.0752 - val_loss: 5.3040 - val_acc: 0.0000e+00\n",
      "Epoch 22/50\n",
      "22400/22400 [==============================] - 1s 37us/step - loss: 2.5519 - acc: 0.0759 - val_loss: 5.4143 - val_acc: 0.0000e+00\n",
      "Epoch 23/50\n",
      "22400/22400 [==============================] - 1s 37us/step - loss: 2.5517 - acc: 0.0755 - val_loss: 5.5247 - val_acc: 0.0000e+00\n",
      "Epoch 24/50\n",
      "22400/22400 [==============================] - 1s 40us/step - loss: 2.5515 - acc: 0.0766 - val_loss: 5.6345 - val_acc: 0.0000e+00\n",
      "Epoch 25/50\n",
      "22400/22400 [==============================] - 1s 41us/step - loss: 2.5513 - acc: 0.0777 - val_loss: 5.7463 - val_acc: 0.0000e+00\n",
      "Epoch 26/50\n",
      "22400/22400 [==============================] - 1s 37us/step - loss: 2.5511 - acc: 0.0782 - val_loss: 5.8576 - val_acc: 0.0000e+00\n",
      "Epoch 27/50\n",
      "22400/22400 [==============================] - 1s 38us/step - loss: 2.5510 - acc: 0.0784 - val_loss: 5.9680 - val_acc: 0.0000e+00\n",
      "Epoch 28/50\n",
      "22400/22400 [==============================] - 1s 38us/step - loss: 2.5509 - acc: 0.0780 - val_loss: 6.0791 - val_acc: 0.0000e+00\n",
      "Epoch 29/50\n",
      "22400/22400 [==============================] - 1s 38us/step - loss: 2.5508 - acc: 0.0743 - val_loss: 6.1891 - val_acc: 0.0000e+00\n",
      "Epoch 30/50\n",
      "22400/22400 [==============================] - 1s 39us/step - loss: 2.5508 - acc: 0.0775 - val_loss: 6.2999 - val_acc: 0.0000e+00\n",
      "Epoch 31/50\n",
      "22400/22400 [==============================] - 1s 38us/step - loss: 2.5507 - acc: 0.0771 - val_loss: 6.4121 - val_acc: 0.0000e+00\n",
      "Epoch 32/50\n",
      "22400/22400 [==============================] - 1s 38us/step - loss: 2.5507 - acc: 0.0770 - val_loss: 6.5234 - val_acc: 0.0000e+00\n",
      "Epoch 33/50\n",
      "22400/22400 [==============================] - 1s 41us/step - loss: 2.5506 - acc: 0.0754 - val_loss: 6.6333 - val_acc: 0.0000e+00\n",
      "Epoch 34/50\n",
      "22400/22400 [==============================] - 1s 39us/step - loss: 2.5506 - acc: 0.0789 - val_loss: 6.7438 - val_acc: 0.0000e+00\n",
      "Epoch 35/50\n",
      "22400/22400 [==============================] - 1s 43us/step - loss: 2.5505 - acc: 0.0781 - val_loss: 6.8550 - val_acc: 0.0000e+00\n",
      "Epoch 36/50\n",
      "22400/22400 [==============================] - 1s 44us/step - loss: 2.5505 - acc: 0.0771 - val_loss: 6.9632 - val_acc: 0.0000e+00\n",
      "Epoch 37/50\n",
      "22400/22400 [==============================] - 1s 41us/step - loss: 2.5505 - acc: 0.0777 - val_loss: 7.0727 - val_acc: 0.0000e+00\n",
      "Epoch 38/50\n",
      "22400/22400 [==============================] - 1s 38us/step - loss: 2.5505 - acc: 0.0767 - val_loss: 7.1840 - val_acc: 0.0000e+00\n",
      "Epoch 39/50\n",
      "22400/22400 [==============================] - 1s 37us/step - loss: 2.5505 - acc: 0.0771 - val_loss: 7.2933 - val_acc: 0.0000e+00\n",
      "Epoch 40/50\n",
      "22400/22400 [==============================] - 1s 40us/step - loss: 2.5504 - acc: 0.0791 - val_loss: 7.4052 - val_acc: 0.0000e+00\n",
      "Epoch 41/50\n",
      "22400/22400 [==============================] - 1s 39us/step - loss: 2.5504 - acc: 0.0773 - val_loss: 7.5141 - val_acc: 0.0000e+00\n",
      "Epoch 42/50\n",
      "22400/22400 [==============================] - 1s 40us/step - loss: 2.5504 - acc: 0.0756 - val_loss: 7.6250 - val_acc: 0.0000e+00\n",
      "Epoch 43/50\n",
      "22400/22400 [==============================] - 1s 38us/step - loss: 2.5504 - acc: 0.0764 - val_loss: 7.7355 - val_acc: 0.0000e+00\n",
      "Epoch 44/50\n",
      "22400/22400 [==============================] - 1s 39us/step - loss: 2.5504 - acc: 0.0781 - val_loss: 7.8440 - val_acc: 0.0000e+00\n",
      "Epoch 45/50\n",
      "22400/22400 [==============================] - 1s 43us/step - loss: 2.5504 - acc: 0.0769 - val_loss: 7.9547 - val_acc: 0.0000e+00\n",
      "Epoch 46/50\n",
      "22400/22400 [==============================] - 1s 45us/step - loss: 2.5504 - acc: 0.0775 - val_loss: 8.0657 - val_acc: 0.0000e+00\n",
      "Epoch 47/50\n",
      "22400/22400 [==============================] - 1s 38us/step - loss: 2.5504 - acc: 0.0794 - val_loss: 8.1750 - val_acc: 0.0000e+00\n",
      "Epoch 48/50\n",
      "22400/22400 [==============================] - 1s 38us/step - loss: 2.5504 - acc: 0.0758 - val_loss: 8.2842 - val_acc: 0.0000e+00\n",
      "Epoch 49/50\n",
      "22400/22400 [==============================] - 1s 38us/step - loss: 2.5504 - acc: 0.0758 - val_loss: 8.3938 - val_acc: 0.0000e+00\n",
      "Epoch 50/50\n",
      "22400/22400 [==============================] - 1s 44us/step - loss: 2.5504 - acc: 0.0736 - val_loss: 8.5043 - val_acc: 0.0000e+00\n"
     ]
    }
   ],
   "source": [
    "FF1_history = FF1.fit(image_train, train_labels, epochs=50, validation_split = (1 / 9), batch_size = 128)"
   ]
  },
  {
   "cell_type": "code",
   "execution_count": 47,
   "metadata": {},
   "outputs": [
    {
     "name": "stdout",
     "output_type": "stream",
     "text": [
      "2800/2800 [==============================] - 0s 43us/step\n",
      "test_acc: 0.07142857142857142\n"
     ]
    }
   ],
   "source": [
    "test_loss, test_acc = FF1.evaluate(image_test, test_labels)\n",
    "print('test_acc:', test_acc)"
   ]
  },
  {
   "cell_type": "code",
   "execution_count": 48,
   "metadata": {},
   "outputs": [],
   "source": [
    "#A Simple CNN\n",
    "CNN1 = models.Sequential()\n",
    "CNN1.add(layers.Conv2D(32, (3, 3), activation='relu', input_shape=(45, 45, 1)))\n",
    "CNN1.add(layers.MaxPooling2D((2, 2)))\n",
    "CNN1.add(layers.Conv2D(64, (3, 3), activation='relu'))\n",
    "CNN1.add(layers.MaxPooling2D((2, 2)))\n",
    "CNN1.add(layers.Conv2D(64, (3, 3), activation='relu'))\n",
    "\n",
    "CNN1.add(layers.Flatten())\n",
    "CNN1.add(layers.Dense(64, activation='relu'))\n",
    "CNN1.add(layers.Dense(14, activation='softmax'))"
   ]
  },
  {
   "cell_type": "code",
   "execution_count": 49,
   "metadata": {},
   "outputs": [],
   "source": [
    "CNN1.compile(optimizer = 'rmsprop', loss = 'categorical_crossentropy', metrics = ['accuracy'])"
   ]
  },
  {
   "cell_type": "code",
   "execution_count": 50,
   "metadata": {},
   "outputs": [],
   "source": [
    "train_images = image_train.reshape((1800*14, 45, 45, 1))\n",
    "test_images = image_test.reshape((200*14, 45, 45, 1))"
   ]
  },
  {
   "cell_type": "code",
   "execution_count": 51,
   "metadata": {},
   "outputs": [
    {
     "data": {
      "text/plain": [
       "(25200, 45, 45, 1)"
      ]
     },
     "execution_count": 51,
     "metadata": {},
     "output_type": "execute_result"
    }
   ],
   "source": [
    "train_images.shape"
   ]
  },
  {
   "cell_type": "code",
   "execution_count": 54,
   "metadata": {},
   "outputs": [
    {
     "name": "stdout",
     "output_type": "stream",
     "text": [
      "Epoch 1/5\n",
      "25200/25200 [==============================] - 41s 2ms/step - loss: 0.4055 - acc: 0.8770\n",
      "Epoch 2/5\n",
      "25200/25200 [==============================] - 41s 2ms/step - loss: 0.0328 - acc: 0.9911\n",
      "Epoch 3/5\n",
      "25200/25200 [==============================] - 40s 2ms/step - loss: 0.0147 - acc: 0.9956\n",
      "Epoch 4/5\n",
      "25200/25200 [==============================] - 40s 2ms/step - loss: 0.0085 - acc: 0.9975\n",
      "Epoch 5/5\n",
      "25200/25200 [==============================] - 39s 2ms/step - loss: 0.0050 - acc: 0.9987\n"
     ]
    },
    {
     "data": {
      "text/plain": [
       "<keras.callbacks.History at 0x22718e81400>"
      ]
     },
     "execution_count": 54,
     "metadata": {},
     "output_type": "execute_result"
    }
   ],
   "source": [
    "CNN1.fit(train_images, train_labels, epochs=5, batch_size = 64)"
   ]
  },
  {
   "cell_type": "code",
   "execution_count": 56,
   "metadata": {},
   "outputs": [
    {
     "name": "stdout",
     "output_type": "stream",
     "text": [
      "2800/2800 [==============================] - 2s 569us/step\n",
      "test_acc: 0.985\n"
     ]
    }
   ],
   "source": [
    "test_loss, test_acc = CNN1.evaluate(test_images, test_labels)\n",
    "print('test_acc:', test_acc)"
   ]
  },
  {
   "cell_type": "code",
   "execution_count": null,
   "metadata": {},
   "outputs": [],
   "source": []
  }
 ],
 "metadata": {
  "kernelspec": {
   "display_name": "Python 3",
   "language": "python",
   "name": "python3"
  },
  "language_info": {
   "codemirror_mode": {
    "name": "ipython",
    "version": 3
   },
   "file_extension": ".py",
   "mimetype": "text/x-python",
   "name": "python",
   "nbconvert_exporter": "python",
   "pygments_lexer": "ipython3",
   "version": "3.6.2"
  }
 },
 "nbformat": 4,
 "nbformat_minor": 2
}
